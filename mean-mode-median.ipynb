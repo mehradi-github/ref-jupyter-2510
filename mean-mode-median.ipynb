{
 "cells": [
  {
   "cell_type": "code",
   "execution_count": 1,
   "id": "7c540e30-ba23-45b0-b0ba-63ab0edd9194",
   "metadata": {},
   "outputs": [],
   "source": [
    "import statistics"
   ]
  },
  {
   "cell_type": "code",
   "execution_count": 2,
   "id": "9c8597a8-1279-4df9-8917-063d4d3e3362",
   "metadata": {},
   "outputs": [],
   "source": [
    "a=[6,3,9,6,6,5,9,3]"
   ]
  },
  {
   "cell_type": "code",
   "execution_count": 3,
   "id": "faeb568e-13d4-4ba7-9c49-e29501182416",
   "metadata": {},
   "outputs": [
    {
     "data": {
      "text/plain": [
       "6"
      ]
     },
     "execution_count": 3,
     "metadata": {},
     "output_type": "execute_result"
    }
   ],
   "source": [
    "statistics.mode(a)"
   ]
  },
  {
   "cell_type": "code",
   "execution_count": 4,
   "id": "7f1bd4fb-bcab-443c-9e99-d91703f6ceb2",
   "metadata": {},
   "outputs": [],
   "source": [
    "from scipy import stats"
   ]
  },
  {
   "cell_type": "code",
   "execution_count": 5,
   "id": "4f5853e7-e108-4768-9583-fd51bfcaf676",
   "metadata": {},
   "outputs": [
    {
     "data": {
      "text/plain": [
       "ModeResult(mode=np.int64(6), count=np.int64(3))"
      ]
     },
     "execution_count": 5,
     "metadata": {},
     "output_type": "execute_result"
    }
   ],
   "source": [
    "stats.mode(a)"
   ]
  },
  {
   "cell_type": "code",
   "execution_count": 6,
   "id": "8bcffb89-1124-4cac-a790-03db84c4a53c",
   "metadata": {},
   "outputs": [],
   "source": [
    "b=[6,11,7]"
   ]
  },
  {
   "cell_type": "code",
   "execution_count": 7,
   "id": "da4ccb67-435b-4867-8cc1-11d0ddb7fbfe",
   "metadata": {},
   "outputs": [
    {
     "data": {
      "text/plain": [
       "7"
      ]
     },
     "execution_count": 7,
     "metadata": {},
     "output_type": "execute_result"
    }
   ],
   "source": [
    "statistics.median(b)"
   ]
  },
  {
   "cell_type": "code",
   "execution_count": 8,
   "id": "44a9a113-6d5e-418f-ba38-0d949462d84d",
   "metadata": {},
   "outputs": [],
   "source": [
    "c=[10,11,13,15,16,23,26]"
   ]
  },
  {
   "cell_type": "code",
   "execution_count": 9,
   "id": "15d2e444-bf33-4d0e-9753-f83db7a7cb2e",
   "metadata": {},
   "outputs": [
    {
     "data": {
      "text/plain": [
       "7"
      ]
     },
     "execution_count": 9,
     "metadata": {},
     "output_type": "execute_result"
    }
   ],
   "source": [
    "statistics.median(b)"
   ]
  },
  {
   "cell_type": "code",
   "execution_count": 10,
   "id": "112ba4bb-d1d4-4657-bdb3-19bf2bba8a5d",
   "metadata": {},
   "outputs": [],
   "source": [
    "import numpy as np"
   ]
  },
  {
   "cell_type": "code",
   "execution_count": 12,
   "id": "51054559-0d90-41b7-b0e8-2fc9b8832c0d",
   "metadata": {},
   "outputs": [
    {
     "data": {
      "text/plain": [
       "np.float64(16.285714285714285)"
      ]
     },
     "execution_count": 12,
     "metadata": {},
     "output_type": "execute_result"
    }
   ],
   "source": [
    "np.mean(c)"
   ]
  },
  {
   "cell_type": "code",
   "execution_count": 13,
   "id": "6868c671-822d-4359-b1db-6a55c85e068f",
   "metadata": {},
   "outputs": [
    {
     "data": {
      "text/plain": [
       "np.float64(15.0)"
      ]
     },
     "execution_count": 13,
     "metadata": {},
     "output_type": "execute_result"
    }
   ],
   "source": [
    "np.median(c)"
   ]
  },
  {
   "cell_type": "code",
   "execution_count": null,
   "id": "8c6a407c-c0af-4c1b-af5b-a59e10c80e05",
   "metadata": {},
   "outputs": [],
   "source": []
  }
 ],
 "metadata": {
  "kernelspec": {
   "display_name": "Python 3 (ipykernel)",
   "language": "python",
   "name": "python3"
  },
  "language_info": {
   "codemirror_mode": {
    "name": "ipython",
    "version": 3
   },
   "file_extension": ".py",
   "mimetype": "text/x-python",
   "name": "python",
   "nbconvert_exporter": "python",
   "pygments_lexer": "ipython3",
   "version": "3.13.5"
  }
 },
 "nbformat": 4,
 "nbformat_minor": 5
}
