{
 "cells": [
  {
   "cell_type": "code",
   "execution_count": 1,
   "id": "6e8eb895-0f94-4fc3-b1c0-be6b7b9478d2",
   "metadata": {},
   "outputs": [],
   "source": [
    "import statistics"
   ]
  },
  {
   "cell_type": "code",
   "execution_count": 2,
   "id": "26e338f9-36ef-48c3-b761-e7090c765db6",
   "metadata": {},
   "outputs": [],
   "source": [
    "a=[30,36,47,50,52,52,56,60,63,70,70,110]"
   ]
  },
  {
   "cell_type": "code",
   "execution_count": 3,
   "id": "eec935aa-509f-4413-b95d-241e594b2ae6",
   "metadata": {},
   "outputs": [
    {
     "data": {
      "text/plain": [
       "413.6363636363636"
      ]
     },
     "execution_count": 3,
     "metadata": {},
     "output_type": "execute_result"
    }
   ],
   "source": [
    "statistics.variance(a)"
   ]
  },
  {
   "cell_type": "code",
   "execution_count": 4,
   "id": "c7a9ddc0-19b7-4153-a48b-19fc0aef853f",
   "metadata": {},
   "outputs": [
    {
     "data": {
      "text/plain": [
       "20.338052110179177"
      ]
     },
     "execution_count": 4,
     "metadata": {},
     "output_type": "execute_result"
    }
   ],
   "source": [
    "statistics.stdev(a)"
   ]
  },
  {
   "cell_type": "code",
   "execution_count": 5,
   "id": "640b6eea-383d-4ef1-9dd7-978098e6f97e",
   "metadata": {},
   "outputs": [
    {
     "data": {
      "text/plain": [
       "58"
      ]
     },
     "execution_count": 5,
     "metadata": {},
     "output_type": "execute_result"
    }
   ],
   "source": [
    "statistics.mean(a)"
   ]
  },
  {
   "cell_type": "code",
   "execution_count": null,
   "id": "1f3a76b8-e1d5-48a8-b4a5-84af2f159e77",
   "metadata": {},
   "outputs": [],
   "source": []
  }
 ],
 "metadata": {
  "kernelspec": {
   "display_name": "Python 3 (ipykernel)",
   "language": "python",
   "name": "python3"
  },
  "language_info": {
   "codemirror_mode": {
    "name": "ipython",
    "version": 3
   },
   "file_extension": ".py",
   "mimetype": "text/x-python",
   "name": "python",
   "nbconvert_exporter": "python",
   "pygments_lexer": "ipython3",
   "version": "3.13.5"
  }
 },
 "nbformat": 4,
 "nbformat_minor": 5
}
