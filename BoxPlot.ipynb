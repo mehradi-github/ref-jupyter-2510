{
 "cells": [
  {
   "cell_type": "code",
   "execution_count": 13,
   "id": "f17d8871-8f9e-4f0a-a6e2-718e1b6a2a20",
   "metadata": {},
   "outputs": [],
   "source": [
    "import numpy as np\n",
    "import matplotlib.pyplot as plt"
   ]
  },
  {
   "cell_type": "code",
   "execution_count": 14,
   "id": "3ab142b0-d9f1-43c2-9239-61466d7451f6",
   "metadata": {},
   "outputs": [],
   "source": [
    "data=np.array([-20,-3,-2,-1,0,1,2,3,4,5,8,9,10,11,12,13,14,15,16,19,40,50])"
   ]
  },
  {
   "cell_type": "code",
   "execution_count": 15,
   "id": "625867b2-9daf-4450-b0e7-80b41107a98c",
   "metadata": {},
   "outputs": [
    {
     "data": {
      "text/plain": [
       "np.float64(1.25)"
      ]
     },
     "execution_count": 15,
     "metadata": {},
     "output_type": "execute_result"
    }
   ],
   "source": [
    "q1=np.quantile(data, .25)\n",
    "q1"
   ]
  },
  {
   "cell_type": "code",
   "execution_count": 16,
   "id": "151b64f4-a794-4209-a62b-3c65556ebe0d",
   "metadata": {},
   "outputs": [
    {
     "data": {
      "text/plain": [
       "np.float64(8.5)"
      ]
     },
     "execution_count": 16,
     "metadata": {},
     "output_type": "execute_result"
    }
   ],
   "source": [
    "q2=np.quantile(data, .5)\n",
    "q2"
   ]
  },
  {
   "cell_type": "code",
   "execution_count": 17,
   "id": "081f440e-3bc2-4c42-8446-884561aef8e1",
   "metadata": {},
   "outputs": [
    {
     "data": {
      "text/plain": [
       "np.float64(13.75)"
      ]
     },
     "execution_count": 17,
     "metadata": {},
     "output_type": "execute_result"
    }
   ],
   "source": [
    "q3=np.quantile(data, .75)\n",
    "q3"
   ]
  },
  {
   "cell_type": "code",
   "execution_count": 18,
   "id": "f7405485-a561-4ae0-91b5-0997cc64ee76",
   "metadata": {},
   "outputs": [
    {
     "data": {
      "text/plain": [
       "np.float64(12.5)"
      ]
     },
     "execution_count": 18,
     "metadata": {},
     "output_type": "execute_result"
    }
   ],
   "source": [
    "iqr=q3-q1\n",
    "iqr"
   ]
  },
  {
   "cell_type": "code",
   "execution_count": 19,
   "id": "675c3c74-a881-4f6f-8e79-d7b229fba230",
   "metadata": {},
   "outputs": [
    {
     "data": {
      "text/plain": [
       "np.float64(-17.5)"
      ]
     },
     "execution_count": 19,
     "metadata": {},
     "output_type": "execute_result"
    }
   ],
   "source": [
    "lv=q1-1.5*iqr\n",
    "lv"
   ]
  },
  {
   "cell_type": "code",
   "execution_count": 20,
   "id": "3e8b8770-4e12-4aea-b142-564066874cf0",
   "metadata": {},
   "outputs": [
    {
     "data": {
      "text/plain": [
       "np.float64(32.5)"
      ]
     },
     "execution_count": 20,
     "metadata": {},
     "output_type": "execute_result"
    }
   ],
   "source": [
    "hv=q3+1.5*iqr\n",
    "hv"
   ]
  },
  {
   "cell_type": "code",
   "execution_count": 21,
   "id": "7b00e6fb-a57d-4051-b380-95c6f40f033a",
   "metadata": {},
   "outputs": [
    {
     "data": {
      "image/png": "[encoded data removed]",
      "text/plain": [
       "<Figure size 640x480 with 1 Axes>"
      ]
     },
     "metadata": {},
     "output_type": "display_data"
    }
   ],
   "source": [
    "plt=plt.boxplot(data)"
   ]
  },
  {
   "cell_type": "code",
   "execution_count": null,
   "id": "bcf6b773-a156-4148-a144-7c7ac35b8655",
   "metadata": {},
   "outputs": [],
   "source": []
  }
 ],
 "metadata": {
  "kernelspec": {
   "display_name": "Python 3 (ipykernel)",
   "language": "python",
   "name": "python3"
  },
  "language_info": {
   "codemirror_mode": {
    "name": "ipython",
    "version": 3
   },
   "file_extension": ".py",
   "mimetype": "text/x-python",
   "name": "python",
   "nbconvert_exporter": "python",
   "pygments_lexer": "ipython3",
   "version": "3.13.5"
  }
 },
 "nbformat": 4,
 "nbformat_minor": 5
}
