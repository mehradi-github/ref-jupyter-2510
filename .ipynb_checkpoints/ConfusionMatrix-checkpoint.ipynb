{
 "cells": [
  {
   "cell_type": "code",
   "execution_count": 1,
   "id": "99b7a707-39a6-4ff7-8111-af7c092ee01c",
   "metadata": {},
   "outputs": [],
   "source": [
    "from sklearn.metrics import confusion_matrix\n",
    "from sklearn.metrics import accuracy_score\n",
    "from sklearn.metrics import classification_report"
   ]
  },
  {
   "cell_type": "code",
   "execution_count": 2,
   "id": "a4483668-5d2d-45f2-a953-ad4adb1d4cde",
   "metadata": {},
   "outputs": [],
   "source": [
    "actual    = [\"spam\",\"spam\",\"real\",\"spam\",\"real\",\"spam\",\"spam\",\"spam\",\"real\",\"spam\"]"
   ]
  },
  {
   "cell_type": "code",
   "execution_count": 3,
   "id": "97617bee-9a5c-4b80-87e8-e789c14ba0d4",
   "metadata": {},
   "outputs": [],
   "source": [
    "predicted = [\"real\",\"real\",\"real\",\"real\",\"spam\",\"spam\",\"spam\",\"real\",\"real\",\"spam\"]"
   ]
  },
  {
   "cell_type": "code",
   "execution_count": 5,
   "id": "a0f3c3de-6072-45a6-a1ab-01037d817fb1",
   "metadata": {},
   "outputs": [
    {
     "data": {
      "text/plain": [
       "array([[3, 4],\n",
       "       [1, 2]])"
      ]
     },
     "execution_count": 5,
     "metadata": {},
     "output_type": "execute_result"
    }
   ],
   "source": [
    "c= confusion_matrix(actual,predicted,labels=[\"spam\",\"real\"])\n",
    "c"
   ]
  },
  {
   "cell_type": "code",
   "execution_count": 7,
   "id": "99a2d087-be87-4349-988f-fe352e6de745",
   "metadata": {},
   "outputs": [
    {
     "data": {
      "text/plain": [
       "0.5"
      ]
     },
     "execution_count": 7,
     "metadata": {},
     "output_type": "execute_result"
    }
   ],
   "source": [
    "acc=accuracy_score(actual,predicted)\n",
    "acc"
   ]
  },
  {
   "cell_type": "code",
   "execution_count": 8,
   "id": "ef804eb8-ec28-4a34-9311-0528fb7f6d65",
   "metadata": {},
   "outputs": [],
   "source": [
    "cr=classification_report(actual,predicted)"
   ]
  },
  {
   "cell_type": "code",
   "execution_count": 9,
   "id": "adc5ea32-510f-4ee8-a341-00aa2003b1a2",
   "metadata": {},
   "outputs": [
    {
     "name": "stdout",
     "output_type": "stream",
     "text": [
      "              precision    recall  f1-score   support\n",
      "\n",
      "        real       0.33      0.67      0.44         3\n",
      "        spam       0.75      0.43      0.55         7\n",
      "\n",
      "    accuracy                           0.50        10\n",
      "   macro avg       0.54      0.55      0.49        10\n",
      "weighted avg       0.62      0.50      0.52        10\n",
      "\n"
     ]
    }
   ],
   "source": [
    "print(cr)"
   ]
  },
  {
   "cell_type": "code",
   "execution_count": null,
   "id": "7d8a8084-6409-4db7-adc3-8cd2b175ef62",
   "metadata": {},
   "outputs": [],
   "source": []
  }
 ],
 "metadata": {
  "kernelspec": {
   "display_name": "Python 3 (ipykernel)",
   "language": "python",
   "name": "python3"
  },
  "language_info": {
   "codemirror_mode": {
    "name": "ipython",
    "version": 3
   },
   "file_extension": ".py",
   "mimetype": "text/x-python",
   "name": "python",
   "nbconvert_exporter": "python",
   "pygments_lexer": "ipython3",
   "version": "3.13.5"
  }
 },
 "nbformat": 4,
 "nbformat_minor": 5
}
